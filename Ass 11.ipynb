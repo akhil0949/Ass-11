{
 "cells": [
  {
   "cell_type": "code",
   "execution_count": null,
   "id": "1e359788",
   "metadata": {},
   "outputs": [],
   "source": [
    "1. Write a Python Program to Find LCM?\n",
    "Ans)\n",
    "a = int(input(\"enter 1st number: \"))\n",
    "b = int(input(\"enter 2nd number: \"))\n",
    "max = a\n",
    "while(True):\n",
    "    if(max%a==0 and max%b==0):\n",
    "        break\n",
    "    max = max+1\n",
    "print(f'lcm is {max}')"
   ]
  },
  {
   "cell_type": "code",
   "execution_count": null,
   "id": "6581a2ff",
   "metadata": {},
   "outputs": [],
   "source": [
    "2. Write a Python Program to Find HCF?\n",
    "Ans)\n",
    "a = int(input(\"enter fst number:\"))\n",
    "b = int(input(\"enter fst number:\"))\n",
    "if b > a:\n",
    "    min = a\n",
    "else:\n",
    "    min = b\n",
    "for i in range(1 , min+1):\n",
    "    if(a%i==0 and b%i==0):\n",
    "        hcf = i\n",
    "print(f'the hcf of two numbers is {hcf}')"
   ]
  },
  {
   "cell_type": "code",
   "execution_count": null,
   "id": "a3a247bf",
   "metadata": {},
   "outputs": [],
   "source": [
    "3. Write a Python Program to Convert Decimal to Binary, Octal and Hexadecimal?\n",
    "Ans)\n",
    "i = int(input(\"enter a decimal number: \"))\n",
    "print(f\"decimal to binary is {bin(i)}\")\n",
    "print(f\"decimal to octal is {oct(i)}\")\n",
    "print(f\"decimal to hexa is {hex(i)}\")"
   ]
  },
  {
   "cell_type": "code",
   "execution_count": null,
   "id": "ccca3a71",
   "metadata": {},
   "outputs": [],
   "source": [
    "4. Write a Python Program To Find ASCII value of a character?\n",
    "Ans)\n",
    "n = input(\"enter a character: \")\n",
    "print(f\"the ASCII decimal value of {n} is {ord(n)}\")\n",
    "print(f\"the ASCII hexa value of {n} is { hex(ord(n)) }\")\n",
    "print(f\"the ASCII octa value of {n} is { oct(ord(n)) }\")"
   ]
  },
  {
   "cell_type": "code",
   "execution_count": null,
   "id": "bac51502",
   "metadata": {},
   "outputs": [],
   "source": [
    "5. Write a Python Program to Make a Simple Calculator with 4 basic mathematical operations?\n",
    "Ans)\n",
    "def add(num1 , num2):\n",
    "    return num1 + num2\n",
    "def sub(num1 , num2):\n",
    "    return num1 - num2\n",
    "def mul(num1 , num2):\n",
    "    return num1 * num2\n",
    "def div(num1 , num2):\n",
    "    return num1 / num2\n",
    "print(\"please select operations:\\n\" \\\n",
    "         \"1. Add\\n\" \\\n",
    "         \"2. Subtract\\n\" \\\n",
    "         \"3. Multiplication\\n\" \\\n",
    "         \"4. Division\\n\")\n",
    "select = int(input(\"select operation from 1, 2, 3, 4 :\"))\n",
    "number_1 = int(input(\"enter the first number:\"))\n",
    "number_2 = int(input(\"enter the second number:\"))\n",
    "if select == 1:\n",
    "    print(number_1, \"+\", number_2, \"=\", add(number_1 , number_2))\n",
    "elif select == 2:\n",
    "    print(number_1, \"-\", number_2, \"=\", sub(number_1 , number_2))\n",
    "elif select == 3:\n",
    "    print(number_1, \"*\", number_2, \"=\", mul(number_1 , number_2))  \n",
    "elif select == 4:\n",
    "    print(number_1, \"/\", number_2, \"=\", div(number_1 , number_2))\n",
    "else:\n",
    "    print(\"select correct option:\")"
   ]
  }
 ],
 "metadata": {
  "kernelspec": {
   "display_name": "Python 3",
   "language": "python",
   "name": "python3"
  },
  "language_info": {
   "codemirror_mode": {
    "name": "ipython",
    "version": 3
   },
   "file_extension": ".py",
   "mimetype": "text/x-python",
   "name": "python",
   "nbconvert_exporter": "python",
   "pygments_lexer": "ipython3",
   "version": "3.6.13"
  }
 },
 "nbformat": 4,
 "nbformat_minor": 5
}
